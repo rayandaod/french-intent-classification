{
 "cells": [
  {
   "cell_type": "code",
   "execution_count": null,
   "metadata": {},
   "outputs": [],
   "source": [
    "import pandas as pd\n",
    "from transformers import AutoTokenizer, AutoModelForSequenceClassification\n",
    "from transformers import pipeline\n",
    "\n",
    "CLASSES_OF_INTEREST = ['translate', 'travel_alert', 'flight_status', 'lost_luggage', 'travel_suggestion', 'carry_on', 'book_hotel', 'book_flight']\n",
    "\n",
    "# Load pre-trained model (fine-tuned on original CLINC150, i.e in english)\n",
    "model = AutoModelForSequenceClassification.from_pretrained(\"dbounds/roberta-large-finetuned-clinc\")\n",
    "\n",
    "# Load tokenizer\n",
    "tokenizer = AutoTokenizer.from_pretrained(\"dbounds/roberta-large-finetuned-clinc\")\n",
    "\n",
    "# Load translator (french to english)\n",
    "translator = pipeline(\"translation\", model=\"Helsinki-NLP/opus-mt-tc-big-fr-en\")\n"
   ]
  },
  {
   "cell_type": "code",
   "execution_count": null,
   "metadata": {},
   "outputs": [],
   "source": [
    "def lazy_intent_classifier(user_input):\n",
    "    # Get the translated sentence\n",
    "    translated_user_input = translator(user_input)[0]['translation_text']\n",
    "    print(translated_user_input)\n",
    "\n",
    "    # Tokenize the input\n",
    "    inputs = tokenizer(translated_user_input, return_tensors=\"pt\")\n",
    "\n",
    "    # Get the outputs\n",
    "    outputs = model(**inputs)\n",
    "\n",
    "    # Get the logits\n",
    "    logits = outputs.logits\n",
    "\n",
    "    # Get the index of the intent with the highest probability\n",
    "    intent_index = logits.argmax().item()\n",
    "\n",
    "    # Get the intent label from the index\n",
    "    intent_label = model.config.id2label[intent_index]\n",
    "\n",
    "    # Map the intent label to the one used in instructions\n",
    "    if intent_label == 'oos':\n",
    "        intent_label = 'out_of_scope'\n",
    "\n",
    "    # Map the intent label to oos if it's not in CLASSES_OF_INTEREST\n",
    "    if intent_label not in CLASSES_OF_INTEREST:\n",
    "        intent_label = 'out_of_scope'\n",
    "\n",
    "    return intent_label"
   ]
  },
  {
   "cell_type": "code",
   "execution_count": null,
   "metadata": {},
   "outputs": [],
   "source": [
    "# Load the example set\n",
    "examples = pd.read_csv('../data/examples.csv')\n",
    "\n",
    "# Get the user inputs\n",
    "user_inputs = examples['text'].tolist()\n",
    "\n",
    "# Get the true labels\n",
    "true_labels = examples['label'].tolist()\n",
    "\n",
    "# Get the predicted labels\n",
    "predicted_labels = [lazy_intent_classifier(user_input) for user_input in user_inputs]\n",
    "\n",
    "# Create a dataframe with the results\n",
    "results = pd.DataFrame({'user_input': user_inputs, 'true_label': true_labels, 'predicted_label': predicted_labels})"
   ]
  },
  {
   "cell_type": "code",
   "execution_count": null,
   "metadata": {},
   "outputs": [],
   "source": [
    "# Save the results\n",
    "results.to_csv('../data/examples_naive.csv', index=False)"
   ]
  },
  {
   "cell_type": "code",
   "execution_count": null,
   "metadata": {},
   "outputs": [],
   "source": [
    "# Get the number of correct predictions\n",
    "correct_predictions = results[results['true_label'] == results['predicted_label']].shape[0]\n",
    "\n",
    "# Get the total number of predictions\n",
    "total_predictions = results.shape[0]\n",
    "\n",
    "# Get the accuracy\n",
    "accuracy = correct_predictions / total_predictions\n",
    "print(f'Accuracy: {accuracy}')"
   ]
  },
  {
   "cell_type": "code",
   "execution_count": null,
   "metadata": {},
   "outputs": [],
   "source": [
    "# Print the model misses\n",
    "incorrect_predictions = results[results['true_label'] != results['predicted_label']]\n",
    "for _, row in incorrect_predictions.iterrows():\n",
    "    print(f'User input: {row[\"user_input\"]}')\n",
    "    print(f'True label: {row[\"true_label\"]}')\n",
    "    print(f'Predicted label: {row[\"predicted_label\"]}')\n",
    "    print('')"
   ]
  },
  {
   "cell_type": "code",
   "execution_count": null,
   "metadata": {},
   "outputs": [],
   "source": []
  }
 ],
 "metadata": {
  "kernelspec": {
   "display_name": "illuin_env",
   "language": "python",
   "name": "python3"
  },
  "language_info": {
   "codemirror_mode": {
    "name": "ipython",
    "version": 3
   },
   "file_extension": ".py",
   "mimetype": "text/x-python",
   "name": "python",
   "nbconvert_exporter": "python",
   "pygments_lexer": "ipython3",
   "version": "3.10.9"
  }
 },
 "nbformat": 4,
 "nbformat_minor": 2
}
