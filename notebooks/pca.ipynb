{
 "cells": [
  {
   "cell_type": "code",
   "execution_count": null,
   "metadata": {},
   "outputs": [],
   "source": [
    "import sys\n",
    "import os\n",
    "sys.path.append(os.path.abspath(os.path.join('..')))\n",
    "\n",
    "import pandas as pd\n",
    "import numpy as np\n",
    "\n",
    "from sklearn.decomposition import PCA\n",
    "\n",
    "from src.helper import *\n",
    "from src.evaluate import evaluate_model\n",
    "\n",
    "config = parse_config('/Users/rayandaod/Documents/Docs/Job Search/ILLUIN/intent_classification/config.yaml')"
   ]
  },
  {
   "cell_type": "code",
   "execution_count": null,
   "metadata": {},
   "outputs": [],
   "source": [
    "train_df = pd.read_pickle('/Users/rayandaod/Documents/Docs/Job Search/ILLUIN/intent_classification/data/CLINC150_oos1_down_carry_trans_stop_flaubert_average/small/train/train_oos1_down_carry_trans_stop_flaubert_average.pkl')\n",
    "val_df = pd.read_pickle('/Users/rayandaod/Documents/Docs/Job Search/ILLUIN/intent_classification/data/CLINC150_oos1_down_carry_trans_stop_flaubert_average/small/validation/validation_oos1_down_carry_trans_stop_flaubert_average.pkl')\n",
    "test_df = pd.read_pickle('/Users/rayandaod/Documents/Docs/Job Search/ILLUIN/intent_classification/data/CLINC150_oos1_down_carry_trans_stop_flaubert_average/small/test/test_oos1_down_carry_trans_stop_flaubert_average.pkl')"
   ]
  },
  {
   "cell_type": "code",
   "execution_count": null,
   "metadata": {},
   "outputs": [],
   "source": [
    "X_train = np.array(train_df['embedding'].tolist())\n",
    "X_test = np.array(test_df['embedding'].tolist())\n",
    "\n",
    "# Step 1: Initialize PCA and the X vector for dimensionality reduction\n",
    "pca = PCA(n_components=0.95)  # keep 95% of variance\n",
    "pca.fit(X_train)  # X_train is your training data"
   ]
  },
  {
   "cell_type": "code",
   "execution_count": null,
   "metadata": {},
   "outputs": [],
   "source": [
    "# Step 2: Apply the mapping (transform) to both the training set and the test set\n",
    "X_train_pca = pca.transform(X_train)\n",
    "X_test_pca = pca.transform(X_test)"
   ]
  },
  {
   "cell_type": "code",
   "execution_count": null,
   "metadata": {},
   "outputs": [],
   "source": [
    "X_train_pca.shape, X_test_pca.shape"
   ]
  },
  {
   "cell_type": "code",
   "execution_count": null,
   "metadata": {},
   "outputs": [],
   "source": []
  }
 ],
 "metadata": {
  "kernelspec": {
   "display_name": "illuin_env",
   "language": "python",
   "name": "python3"
  },
  "language_info": {
   "codemirror_mode": {
    "name": "ipython",
    "version": 3
   },
   "file_extension": ".py",
   "mimetype": "text/x-python",
   "name": "python",
   "nbconvert_exporter": "python",
   "pygments_lexer": "ipython3",
   "version": "3.10.9"
  }
 },
 "nbformat": 4,
 "nbformat_minor": 2
}
